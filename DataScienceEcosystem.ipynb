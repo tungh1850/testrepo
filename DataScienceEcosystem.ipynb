{
 "cells": [
  {
   "cell_type": "markdown",
   "id": "373454da-133b-49b3-a6ed-8e028d666238",
   "metadata": {},
   "source": [
    "# Data Science Tools and Ecosystem"
   ]
  },
  {
   "cell_type": "markdown",
   "id": "a1d2bcb5-06fb-4dc1-ab78-898a489da62f",
   "metadata": {},
   "source": [
    "## Author\n",
    "Tung Hoang"
   ]
  },
  {
   "cell_type": "markdown",
   "id": "560abc15-e0a9-4ab1-a822-53fb33c22425",
   "metadata": {},
   "source": [
    "In this notebook, Data Science Tools and Ecosystem are summarized."
   ]
  },
  {
   "cell_type": "markdown",
   "id": "d0631abf-71ff-48d1-b651-82fd38841974",
   "metadata": {},
   "source": [
    "**Objectives:**\n",
    "- Create a Jupyter Notebook\n",
    "- Insert code and markdown cells\n",
    "- Share my notebook through GitHub"
   ]
  },
  {
   "cell_type": "markdown",
   "id": "b9ad6e62-bf4b-491f-b3a4-1fa202480f08",
   "metadata": {},
   "source": [
    "Some of the popular languages that Data Scientists use are:\n",
    "1. Python\n",
    "2. R\n",
    "3. Scala"
   ]
  },
  {
   "cell_type": "markdown",
   "id": "244fff04-4454-4358-9eea-96332fca0c97",
   "metadata": {},
   "source": [
    "Some of the commonly used libraries used by Data Scientists include:\n",
    "+ Pandas\n",
    "+ TensorFlow\n",
    "+ ggplot"
   ]
  },
  {
   "cell_type": "markdown",
   "id": "7de177d8-5bc7-4bb0-8bab-853ad07a2a3c",
   "metadata": {},
   "source": [
    "| Data Science Tools|\n",
    "|-------------------|\n",
    "| AirFlow |\n",
    "| CubeFlow|\n",
    "| ModelDB |\n"
   ]
  },
  {
   "cell_type": "markdown",
   "id": "7d07231d-d560-4ac0-8cf7-48778d626edf",
   "metadata": {},
   "source": [
    "### Below are a few examples of evaluating arithmetic expressions in Python"
   ]
  },
  {
   "cell_type": "code",
   "execution_count": 2,
   "id": "de884a2b-09f0-4c9f-b006-9cf28f916b01",
   "metadata": {},
   "outputs": [
    {
     "data": {
      "text/plain": [
       "17"
      ]
     },
     "execution_count": 2,
     "metadata": {},
     "output_type": "execute_result"
    }
   ],
   "source": [
    "#This a simple arithmetic expression to mutiply then add integers\n",
    "(3*4)+5"
   ]
  },
  {
   "cell_type": "code",
   "execution_count": 6,
   "id": "d4b25a14-2fce-425c-be8e-ac17b6100341",
   "metadata": {},
   "outputs": [
    {
     "data": {
      "text/plain": [
       "3"
      ]
     },
     "execution_count": 6,
     "metadata": {},
     "output_type": "execute_result"
    }
   ],
   "source": [
    "#This will convert 200 minutes to hours by diving by 60\n",
    "import math as m\n",
    "minute = 200\n",
    "m.floor(minute/60)"
   ]
  },
  {
   "cell_type": "code",
   "execution_count": null,
   "id": "14e96f0f-d2a5-40af-88b5-622d6a082f43",
   "metadata": {},
   "outputs": [],
   "source": []
  }
 ],
 "metadata": {
  "kernelspec": {
   "display_name": "Python 3 (ipykernel)",
   "language": "python",
   "name": "python3"
  },
  "language_info": {
   "codemirror_mode": {
    "name": "ipython",
    "version": 3
   },
   "file_extension": ".py",
   "mimetype": "text/x-python",
   "name": "python",
   "nbconvert_exporter": "python",
   "pygments_lexer": "ipython3",
   "version": "3.11.9"
  }
 },
 "nbformat": 4,
 "nbformat_minor": 5
}
